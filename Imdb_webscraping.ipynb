{
 "cells": [
  {
   "cell_type": "markdown",
   "metadata": {},
   "source": [
    "# Webscraping IMDB website \n"
   ]
  },
  {
   "cell_type": "code",
   "execution_count": 1,
   "metadata": {},
   "outputs": [],
   "source": [
    "import bs4\n",
    "import pandas as pd\n",
    "import requests\n",
    "import numpy as np"
   ]
  },
  {
   "cell_type": "code",
   "execution_count": 2,
   "metadata": {},
   "outputs": [],
   "source": [
    "url='https://www.imdb.com/search/title/?&genres=sci_fi'"
   ]
  },
  {
   "cell_type": "markdown",
   "metadata": {},
   "source": [
    "Fetching the content from the website"
   ]
  },
  {
   "cell_type": "code",
   "execution_count": 3,
   "metadata": {},
   "outputs": [],
   "source": [
    "result = requests.get(url)"
   ]
  },
  {
   "cell_type": "markdown",
   "metadata": {},
   "source": [
    "Creating the soup from beautiful soup"
   ]
  },
  {
   "cell_type": "code",
   "execution_count": 4,
   "metadata": {},
   "outputs": [],
   "source": [
    "soup = bs4.BeautifulSoup(result.text,'lxml')"
   ]
  },
  {
   "cell_type": "code",
   "execution_count": 12,
   "metadata": {},
   "outputs": [],
   "source": [
    "sci_fi_container = soup.select('.lister-item-content')\n"
   ]
  },
  {
   "cell_type": "markdown",
   "metadata": {},
   "source": [
    "To start with we scrape for 1 movie and scale it up with for loop\n"
   ]
  },
  {
   "cell_type": "code",
   "execution_count": 6,
   "metadata": {},
   "outputs": [
    {
     "data": {
      "text/plain": [
       "'Moon Knight'"
      ]
     },
     "execution_count": 6,
     "metadata": {},
     "output_type": "execute_result"
    }
   ],
   "source": [
    "test_title = sci_fi_container[0].find('h3',class_='lister-item-header')\n",
    "test_title.a.text"
   ]
  },
  {
   "cell_type": "code",
   "execution_count": 7,
   "metadata": {},
   "outputs": [
    {
     "data": {
      "text/plain": [
       "'2022'"
      ]
     },
     "execution_count": 7,
     "metadata": {},
     "output_type": "execute_result"
    }
   ],
   "source": [
    "test_year = sci_fi_container[0].find('span',class_='lister-item-year text-muted unbold')\n",
    "test_year.text.replace(')','').replace('(','')# removing () "
   ]
  },
  {
   "cell_type": "code",
   "execution_count": 8,
   "metadata": {},
   "outputs": [
    {
     "data": {
      "text/plain": [
       "'7.6'"
      ]
     },
     "execution_count": 8,
     "metadata": {},
     "output_type": "execute_result"
    }
   ],
   "source": [
    "test_rating=sci_fi_container[0].find('div',class_='inline-block ratings-imdb-rating')\n",
    "test_rating['data-value']"
   ]
  },
  {
   "cell_type": "code",
   "execution_count": 9,
   "metadata": {},
   "outputs": [
    {
     "data": {
      "text/plain": [
       "\"Steven Grant discovers he's been granted the powers of an Egyptian moon god. But he soon finds out that these newfound powers can be both a blessing and a curse to his troubled life.\""
      ]
     },
     "execution_count": 9,
     "metadata": {},
     "output_type": "execute_result"
    }
   ],
   "source": [
    "test_description = sci_fi_container[0].find_all('p',class_='text-muted')\n",
    "test_description[1].text.replace(\"\\n\",'')"
   ]
  },
  {
   "cell_type": "code",
   "execution_count": 10,
   "metadata": {},
   "outputs": [
    {
     "data": {
      "text/plain": [
       "'Director:Scott Derrickson|     Stars:Benedict Cumberbatch, Chiwetel Ejiofor, Rachel McAdams, Benedict Wong'"
      ]
     },
     "execution_count": 10,
     "metadata": {},
     "output_type": "execute_result"
    }
   ],
   "source": [
    "test_directior=sci_fi_container[46].find('p',class_='')\n",
    "test_directior.text.replace('\\n','').lstrip()"
   ]
  },
  {
   "cell_type": "markdown",
   "metadata": {},
   "source": [
    "Extracting directors and star cast from the string"
   ]
  },
  {
   "cell_type": "code",
   "execution_count": 13,
   "metadata": {},
   "outputs": [
    {
     "name": "stdout",
     "output_type": "stream",
     "text": [
      "Oscar Isaac, Ethan Hawke, May Calamawy, F. Murray Abraham\n"
     ]
    },
    {
     "ename": "NameError",
     "evalue": "name 'line_index' is not defined",
     "output_type": "error",
     "traceback": [
      "\u001b[1;31m---------------------------------------------------------------------------\u001b[0m",
      "\u001b[1;31mNameError\u001b[0m                                 Traceback (most recent call last)",
      "\u001b[1;32m~\\AppData\\Local\\Temp/ipykernel_4640/252110859.py\u001b[0m in \u001b[0;36m<module>\u001b[1;34m\u001b[0m\n\u001b[0;32m      6\u001b[0m \u001b[1;31m# print(string)\u001b[0m\u001b[1;33m\u001b[0m\u001b[1;33m\u001b[0m\u001b[1;33m\u001b[0m\u001b[0m\n\u001b[0;32m      7\u001b[0m \u001b[1;33m\u001b[0m\u001b[0m\n\u001b[1;32m----> 8\u001b[1;33m \u001b[0mDirector\u001b[0m\u001b[1;33m=\u001b[0m\u001b[0mstring\u001b[0m\u001b[1;33m[\u001b[0m\u001b[1;36m9\u001b[0m\u001b[1;33m:\u001b[0m\u001b[0mline_index\u001b[0m\u001b[1;33m]\u001b[0m\u001b[1;33m\u001b[0m\u001b[1;33m\u001b[0m\u001b[0m\n\u001b[0m\u001b[0;32m      9\u001b[0m \u001b[0mprint\u001b[0m\u001b[1;33m(\u001b[0m\u001b[0mDirector\u001b[0m\u001b[1;33m)\u001b[0m\u001b[1;33m\u001b[0m\u001b[1;33m\u001b[0m\u001b[0m\n",
      "\u001b[1;31mNameError\u001b[0m: name 'line_index' is not defined"
     ]
    }
   ],
   "source": [
    "test_directior=sci_fi_container[0].find('p',class_='')\n",
    "string = test_directior.text.replace('\\n','').lstrip() # remove \\n and empty spaces\n",
    "Stars_index = string.index('Stars')# index of Stars\n",
    "Stars = string[Stars_index+6::]# slicing from stars\n",
    "print(Stars) \n",
    "# print(string)\n",
    "line_index=string.index('|')\n",
    "Director=string[9:line_index]\n",
    "print(Director)\n"
   ]
  },
  {
   "cell_type": "code",
   "execution_count": null,
   "metadata": {},
   "outputs": [
    {
     "data": {
      "text/plain": [
       "'UA'"
      ]
     },
     "execution_count": 29,
     "metadata": {},
     "output_type": "execute_result"
    }
   ],
   "source": [
    "test_rating=sci_fi_container[0].find('span',class_='certificate')\n",
    "test_rating.text"
   ]
  },
  {
   "cell_type": "code",
   "execution_count": null,
   "metadata": {},
   "outputs": [
    {
     "data": {
      "text/plain": [
       "'156'"
      ]
     },
     "execution_count": 30,
     "metadata": {},
     "output_type": "execute_result"
    }
   ],
   "source": [
    "test_runtime = sci_fi_container[0].find('span',class_='runtime')\n",
    "test_runtime.text[:-4]"
   ]
  },
  {
   "cell_type": "code",
   "execution_count": null,
   "metadata": {},
   "outputs": [
    {
     "data": {
      "text/plain": [
       "'Action, Adventure, Fantasy'"
      ]
     },
     "execution_count": 31,
     "metadata": {},
     "output_type": "execute_result"
    }
   ],
   "source": [
    "test_genre = sci_fi_container[0].find('span',class_='genre')\n",
    "test_genre.text.replace('\\n','').rstrip()"
   ]
  },
  {
   "cell_type": "markdown",
   "metadata": {},
   "source": [
    "Now we have checked for a particular movie, let's make it for 50 movies and replace missing values with 'nan'(not a  number) "
   ]
  },
  {
   "cell_type": "code",
   "execution_count": null,
   "metadata": {},
   "outputs": [],
   "source": [
    "#initialize empty lists to store the variables scraped\n",
    "titles = []\n",
    "imdb_rating = []\n",
    "movie_ratings = []\n",
    "cast = []\n",
    "runtime = []\n",
    "movie_genre = []\n",
    "movie_director = []\n",
    "description = []\n",
    "movie_year = []\n",
    "\n",
    "for movie in sci_fi_container:\n",
    "    #Title\n",
    "    title = movie.find('h3',class_='lister-item-header')\n",
    "    titles.append(title.a.text)\n",
    "    \n",
    "    # Year\n",
    "    year = movie.find('span',class_='lister-item-year text-muted unbold')\n",
    "    movie_year.append(year.text.replace(')','').replace('(','').replace('– ',''))#removing '()' and '-'\n",
    "    \n",
    "    #movie rating\n",
    "    # try and except block for handling null values\n",
    "    try:\n",
    "        rating = movie.find('span',class_='certificate')\n",
    "        movie_ratings.append(rating.text)\n",
    "    except:\n",
    "        movie_ratings.append(np.nan)\n",
    "\n",
    "    #genre\n",
    "    genre = movie.find('span',class_='genre')\n",
    "    movie_genre.append(genre.text.replace('\\n','').rstrip())\n",
    "    \n",
    "    #runtime\n",
    "    try:\n",
    "        time = movie.find('span',class_='runtime')\n",
    "        runtime.append(int(time.text[:-4]))\n",
    "    except:\n",
    "        runtime.append(np.nan)\n",
    "        \n",
    "    # movie director\n",
    "    temp = movie.find('p',class_='')\n",
    "    string = temp.text.replace('\\n','').lstrip() # remove \\n and empty spaces\n",
    "    try:\n",
    "        line_index=string.index('|')\n",
    "        Director=string[9:line_index]\n",
    "        movie_director.append(Director)\n",
    "    except:\n",
    "        movie_director.append(np.nan)\n",
    "    \n",
    "    #cast\n",
    "    stars_index = string.index('Stars')# index of Stars\n",
    "    stars = string[stars_index+6::]# slicing from stars\n",
    "    cast.append(stars)\n",
    "    \n",
    "    #plot\n",
    "    plot = movie.find_all('p',class_='text-muted')\n",
    "    description.append(plot[1].text.replace(\"\\n\",''))\n",
    "    \n",
    "    #star rating\n",
    "    try:\n",
    "        imdb_score = movie.find('div',class_='inline-block ratings-imdb-rating')\n",
    "        imdb_rating.append(imdb_score['data-value'])\n",
    "    except:\n",
    "        imdb_rating.append(np.nan)"
   ]
  },
  {
   "cell_type": "markdown",
   "metadata": {},
   "source": [
    "Creating dataframe and adding movies into it\n"
   ]
  },
  {
   "cell_type": "code",
   "execution_count": null,
   "metadata": {},
   "outputs": [
    {
     "name": "stdout",
     "output_type": "stream",
     "text": [
      "<class 'pandas.core.frame.DataFrame'>\n",
      "RangeIndex: 50 entries, 0 to 49\n",
      "Data columns (total 9 columns):\n",
      " #   Column    Non-Null Count  Dtype  \n",
      "---  ------    --------------  -----  \n",
      " 0   movie     50 non-null     object \n",
      " 1   plot      50 non-null     object \n",
      " 2   year      50 non-null     object \n",
      " 3   ratings   43 non-null     object \n",
      " 4   stars     42 non-null     object \n",
      " 5   runtime   41 non-null     float64\n",
      " 6   genre     50 non-null     object \n",
      " 7   director  21 non-null     object \n",
      " 8   cast      50 non-null     object \n",
      "dtypes: float64(1), object(8)\n",
      "memory usage: 3.6+ KB\n",
      "None\n"
     ]
    },
    {
     "data": {
      "text/html": [
       "<div>\n",
       "<style scoped>\n",
       "    .dataframe tbody tr th:only-of-type {\n",
       "        vertical-align: middle;\n",
       "    }\n",
       "\n",
       "    .dataframe tbody tr th {\n",
       "        vertical-align: top;\n",
       "    }\n",
       "\n",
       "    .dataframe thead th {\n",
       "        text-align: right;\n",
       "    }\n",
       "</style>\n",
       "<table border=\"1\" class=\"dataframe\">\n",
       "  <thead>\n",
       "    <tr style=\"text-align: right;\">\n",
       "      <th></th>\n",
       "      <th>movie</th>\n",
       "      <th>plot</th>\n",
       "      <th>year</th>\n",
       "      <th>ratings</th>\n",
       "      <th>stars</th>\n",
       "      <th>runtime</th>\n",
       "      <th>genre</th>\n",
       "      <th>director</th>\n",
       "      <th>cast</th>\n",
       "    </tr>\n",
       "  </thead>\n",
       "  <tbody>\n",
       "    <tr>\n",
       "      <th>0</th>\n",
       "      <td>Eternals</td>\n",
       "      <td>The saga of the Eternals, a race of immortal b...</td>\n",
       "      <td>2021</td>\n",
       "      <td>UA</td>\n",
       "      <td>6.9</td>\n",
       "      <td>156.0</td>\n",
       "      <td>Action, Adventure, Fantasy</td>\n",
       "      <td>Chloé Zhao</td>\n",
       "      <td>Gemma Chan, Richard Madden, Angelina Jolie, Sa...</td>\n",
       "    </tr>\n",
       "    <tr>\n",
       "      <th>1</th>\n",
       "      <td>Arcane: League of Legends</td>\n",
       "      <td>Set in utopian Piltover and the oppressed unde...</td>\n",
       "      <td>2021</td>\n",
       "      <td>16</td>\n",
       "      <td>9.4</td>\n",
       "      <td>NaN</td>\n",
       "      <td>Animation, Action, Adventure</td>\n",
       "      <td>NaN</td>\n",
       "      <td>Kevin Alejandro, Jason Spisak, Hailee Steinfel...</td>\n",
       "    </tr>\n",
       "    <tr>\n",
       "      <th>2</th>\n",
       "      <td>Dune: Part One</td>\n",
       "      <td>Feature adaptation of Frank Herbert's science ...</td>\n",
       "      <td>2021</td>\n",
       "      <td>UA</td>\n",
       "      <td>8.2</td>\n",
       "      <td>155.0</td>\n",
       "      <td>Action, Adventure, Drama</td>\n",
       "      <td>Denis Villeneuve</td>\n",
       "      <td>Timothée Chalamet, Rebecca Ferguson, Zendaya, ...</td>\n",
       "    </tr>\n",
       "    <tr>\n",
       "      <th>3</th>\n",
       "      <td>Shang-Chi and the Legend of the Ten Rings</td>\n",
       "      <td>Shang-Chi, the master of weaponry-based Kung F...</td>\n",
       "      <td>2021</td>\n",
       "      <td>UA</td>\n",
       "      <td>7.7</td>\n",
       "      <td>132.0</td>\n",
       "      <td>Action, Adventure, Fantasy</td>\n",
       "      <td>Destin Daniel Cretton</td>\n",
       "      <td>Simu Liu, Awkwafina, Tony Chiu-Wai Leung, Ben ...</td>\n",
       "    </tr>\n",
       "    <tr>\n",
       "      <th>4</th>\n",
       "      <td>Finch</td>\n",
       "      <td>On a post-apocalyptic earth, a robot, built to...</td>\n",
       "      <td>2021</td>\n",
       "      <td>UA 13+</td>\n",
       "      <td>7</td>\n",
       "      <td>115.0</td>\n",
       "      <td>Adventure, Drama, Sci-Fi</td>\n",
       "      <td>Miguel Sapochnik</td>\n",
       "      <td>Tom Hanks, Caleb Landry Jones, Marie Wagenman,...</td>\n",
       "    </tr>\n",
       "  </tbody>\n",
       "</table>\n",
       "</div>"
      ],
      "text/plain": [
       "                                       movie  \\\n",
       "0                                   Eternals   \n",
       "1                  Arcane: League of Legends   \n",
       "2                             Dune: Part One   \n",
       "3  Shang-Chi and the Legend of the Ten Rings   \n",
       "4                                      Finch   \n",
       "\n",
       "                                                plot  year ratings stars  \\\n",
       "0  The saga of the Eternals, a race of immortal b...  2021      UA   6.9   \n",
       "1  Set in utopian Piltover and the oppressed unde...  2021      16   9.4   \n",
       "2  Feature adaptation of Frank Herbert's science ...  2021      UA   8.2   \n",
       "3  Shang-Chi, the master of weaponry-based Kung F...  2021      UA   7.7   \n",
       "4  On a post-apocalyptic earth, a robot, built to...  2021  UA 13+     7   \n",
       "\n",
       "   runtime                         genre               director  \\\n",
       "0    156.0    Action, Adventure, Fantasy             Chloé Zhao   \n",
       "1      NaN  Animation, Action, Adventure                    NaN   \n",
       "2    155.0      Action, Adventure, Drama       Denis Villeneuve   \n",
       "3    132.0    Action, Adventure, Fantasy  Destin Daniel Cretton   \n",
       "4    115.0      Adventure, Drama, Sci-Fi       Miguel Sapochnik   \n",
       "\n",
       "                                                cast  \n",
       "0  Gemma Chan, Richard Madden, Angelina Jolie, Sa...  \n",
       "1  Kevin Alejandro, Jason Spisak, Hailee Steinfel...  \n",
       "2  Timothée Chalamet, Rebecca Ferguson, Zendaya, ...  \n",
       "3  Simu Liu, Awkwafina, Tony Chiu-Wai Leung, Ben ...  \n",
       "4  Tom Hanks, Caleb Landry Jones, Marie Wagenman,...  "
      ]
     },
     "execution_count": 33,
     "metadata": {},
     "output_type": "execute_result"
    }
   ],
   "source": [
    "movies_df = pd.DataFrame({'movie':titles,'plot':description,'year':movie_year,'ratings':movie_ratings,\n",
    "                          'stars':imdb_rating,'runtime':runtime,'genre':movie_genre,'director':movie_director,'cast':cast})\n",
    "print(movies_df.info())\n",
    "movies_df.head()"
   ]
  },
  {
   "cell_type": "markdown",
   "metadata": {},
   "source": [
    "Saving it as a csv file"
   ]
  },
  {
   "cell_type": "code",
   "execution_count": null,
   "metadata": {},
   "outputs": [],
   "source": [
    "movies_df.to_csv('imdb_movies.csv')"
   ]
  }
 ],
 "metadata": {
  "interpreter": {
   "hash": "bacc4ade40b7a2da1942a08ed9836604f09ab0a9eccc996b650ebc1915796573"
  },
  "kernelspec": {
   "display_name": "Python 3.8.12 64-bit ('base': conda)",
   "language": "python",
   "name": "python3"
  },
  "language_info": {
   "codemirror_mode": {
    "name": "ipython",
    "version": 3
   },
   "file_extension": ".py",
   "mimetype": "text/x-python",
   "name": "python",
   "nbconvert_exporter": "python",
   "pygments_lexer": "ipython3",
   "version": "3.8.12"
  },
  "orig_nbformat": 4
 },
 "nbformat": 4,
 "nbformat_minor": 2
}
